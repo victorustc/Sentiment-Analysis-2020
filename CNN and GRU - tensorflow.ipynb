{
 "cells": [
  {
   "cell_type": "markdown",
   "metadata": {
    "colab_type": "text",
    "id": "AtxKTTmd4RCm"
   },
   "source": [
    "## Sentiment Analysis for hotel review data - Tensorflow, Keras\n",
    "#### Yuye Sheng 2020.3"
   ]
  },
  {
   "cell_type": "code",
   "execution_count": 1,
   "metadata": {
    "colab": {
     "base_uri": "https://localhost:8080/",
     "height": 469
    },
    "colab_type": "code",
    "id": "7oNQObhHE-fs",
    "outputId": "da98b222-355c-4c69-87fa-7e8ad3c6adf4"
   },
   "outputs": [],
   "source": [
    "# I used Google colab to run the notebook\n",
    "import os\n",
    "from google.colab import drive\n",
    "drive.mount('/content/drive',force_remount=True)\n",
    "\n",
    "path = \"/content/drive/My Drive\"\n",
    "os.chdir(path)\n",
    "os.listdir(path)"
   ]
  },
  {
   "cell_type": "markdown",
   "metadata": {},
   "source": [
    "### Word embedding"
   ]
  },
  {
   "cell_type": "code",
   "execution_count": 2,
   "metadata": {
    "colab": {
     "base_uri": "https://localhost:8080/",
     "height": 71
    },
    "colab_type": "code",
    "id": "qsQZv7p24RCw",
    "outputId": "52880c41-7451-49a8-9823-c26922cc629a"
   },
   "outputs": [
    {
     "name": "stdout",
     "output_type": "stream",
     "text": [
      "Number of unique tokens(words):  81294\n",
      "(412590, 733)\n",
      "(103148, 733)\n"
     ]
    }
   ],
   "source": [
    "# tokenize each review to a sequence and padding the sequence in order to have fixed length\n",
    "from tensorflow.keras.preprocessing.text import Tokenizer\n",
    "from tensorflow.keras.preprocessing.sequence import pad_sequences\n",
    "import pandas as pd\n",
    "import numpy as np\n",
    "\n",
    "# load the cleaned data (i.e. data after data preprocessing), the file is the one saved in \"Naive Bayes and SVM - Spark.ipynb\"\n",
    "df = pd.read_csv(\"Cleaned_hotel_review_data.csv\")\n",
    "\n",
    "from sklearn.model_selection import train_test_split\n",
    "x_train,x_test,y_train,y_test = train_test_split(df[\"all_review\"],df[\"label\"],test_size=0.2,random_state=100)\n",
    "y_train = y_train.to_numpy(dtype='int32') # the input of tensorflow model should be numpy\n",
    "y_test = y_test.to_numpy(dtype='int32')\n",
    "\n",
    "tokenizer = Tokenizer() # default setting: num_words=None, filters='!\"#$%&()*+,-./:;<=>?@[\\\\]^_`{|}~\\t\\n', lower=True, split=' ', char_level=False, oov_token=None, document_count=0\n",
    "tokenizer.fit_on_texts(df[\"all_review\"])  # fit tokenizer on all reviews in the dataset\n",
    "vocab_size = len(tokenizer.word_index)+1   # word_index:{word:id},+1 since keras need a layer of 0 used for padding\n",
    "print(\"Number of unique tokens(words): \",vocab_size-1) \n",
    "train_tokenized = tokenizer.texts_to_sequences(x_train)\n",
    "test_tokenized = tokenizer.texts_to_sequences(x_test)\n",
    "\n",
    "max_len = max([len(s.split()) for s in df[\"all_review\"]])# the fixed length should be the (maximum) numOfWords of the longest review\n",
    "train_padding = pad_sequences(train_tokenized, padding = 'post',maxlen = max_len) \n",
    "test_padding = pad_sequences(test_tokenized, padding='post',maxlen = max_len)\n",
    "print(train_padding.shape) # (412590,733) \n",
    "print(test_padding.shape)  # (103148,733)"
   ]
  },
  {
   "cell_type": "code",
   "execution_count": 0,
   "metadata": {
    "colab": {},
    "colab_type": "code",
    "id": "qLIodMr1X2Qf"
   },
   "outputs": [],
   "source": [
    "# balance the training set using under-sampling\n",
    "# select 15% positive data and all negative data\n",
    "all_train = np.concatenate((train_padding,y_train[:,np.newaxis]),axis=1) # combine x(features) and y(labels)\n",
    "all_train_neg = all_train[all_train[:,-1]==0]  # select all negative data\n",
    "posi = all_train[all_train[:,-1]==1]\n",
    "all_train_posi = posi[1000:round(posi.shape[0]*0.15)+1000]\n",
    "\n",
    "posi_pad = np.concatenate((all_train_neg,all_train_posi),axis=0)\n",
    "train_padding_ = posi_pad[:,:-1]  # final training set used for model training\n",
    "y_train_= posi_pad[:,-1]"
   ]
  },
  {
   "cell_type": "code",
   "execution_count": 4,
   "metadata": {
    "colab": {
     "base_uri": "https://localhost:8080/",
     "height": 53
    },
    "colab_type": "code",
    "id": "9hl-BTGwHlaZ",
    "outputId": "ac107e5c-94d3-4d3b-b0c9-2f923d7ed5eb"
   },
   "outputs": [
    {
     "name": "stdout",
     "output_type": "stream",
     "text": [
      "Found 400000 word vectors.\n",
      "0.5263546343563564\n"
     ]
    }
   ],
   "source": [
    "# download pre-trained GloVe model from their official website first and then run the following code\n",
    "# compute an index mapping words to known embeddings, by parsing the data dump of pre-trained embeddings:\n",
    "embedding_index = {}\n",
    "with open('glove.6B.100d.txt',encoding = 'utf-8') as f:  # we used dimension 100 of word vector\n",
    "    for line in f:\n",
    "        values = line.split()\n",
    "        word = values[0]\n",
    "        coefs = np.asarray(values[1:], dtype='float32')  \n",
    "        embedding_index[word] = coefs\n",
    "print('Found %s word vectors.'% len(embedding_index))\n",
    "\n",
    "# leverage our embedding_index dictionary and our word_index to compute our embedding matrix:\n",
    "EMBEDDING_DIM = 100  # the dimension of word vector \n",
    "embedding_matrix = np.zeros((vocab_size,EMBEDDING_DIM)) # words not found in embedding index will be all-zeros\n",
    "for word,i in tokenizer.word_index.items():\n",
    "    embedding_vector = embedding_index.get(word)\n",
    "    if embedding_vector is not None: # update embedding matrix if the word in the corpus exists in GloVe\n",
    "        embedding_matrix[i] = embedding_vector\n",
    "\n",
    "# look at how many words in our corpus were covered by GloVe\n",
    "nonzero_words = np.count_nonzero(np.count_nonzero(embedding_matrix,axis=1))  \n",
    "print(nonzero_words/vocab_size) \n",
    "\n",
    "# load this embedding matrix into an Embedding layer. Note that we set trainable=False to prevent the weights from being updated during training.\n",
    "from tensorflow.keras.layers import Embedding\n",
    "embedding_layer = Embedding(vocab_size,\n",
    "                EMBEDDING_DIM, \n",
    "                weights = [embedding_matrix],\n",
    "                input_length = max_len,\n",
    "                trainable = False)"
   ]
  },
  {
   "cell_type": "code",
   "execution_count": 0,
   "metadata": {
    "colab": {},
    "colab_type": "code",
    "id": "kbavcdnxatbT"
   },
   "outputs": [],
   "source": [
    "# function of constructing the plots of confusion matrix\n",
    "import itertools\n",
    "import matplotlib.pyplot as plt\n",
    "def plot_confusion_matrix(cm, classes,\n",
    "                          normalize=False,\n",
    "                          title='Confusion matrix',\n",
    "                          cmap=plt.cm.Blues):\n",
    "    \"\"\"\n",
    "    This function prints and plots the confusion matrix.\n",
    "    Normalization can be applied by setting `normalize=True`.\n",
    "    \"\"\"\n",
    "    if normalize:\n",
    "        cm = cm.astype('float') / cm.sum(axis=1)[:, np.newaxis]\n",
    "        print(\"Normalized confusion matrix\")\n",
    "    else:\n",
    "        print('Confusion matrix, without normalization')\n",
    "\n",
    "    print(cm)\n",
    "\n",
    "    plt.imshow(cm, interpolation='nearest', cmap=cmap)\n",
    "    plt.title(title)\n",
    "    plt.colorbar()\n",
    "    tick_marks = np.arange(len(classes))\n",
    "    plt.xticks(tick_marks, classes, rotation=45)\n",
    "    plt.yticks(tick_marks, classes)\n",
    "\n",
    "    fmt = '.3f' if normalize else 'd'\n",
    "    thresh = cm.max() / 2.\n",
    "    for i, j in itertools.product(range(cm.shape[0]), range(cm.shape[1])):\n",
    "        plt.text(j, i, format(cm[i, j], fmt),\n",
    "                 horizontalalignment=\"center\",\n",
    "                 color=\"white\" if cm[i, j] > thresh else \"black\")\n",
    "\n",
    "    plt.tight_layout()\n",
    "    plt.ylabel('True label')\n",
    "    plt.xlabel('Predicted label')"
   ]
  },
  {
   "cell_type": "markdown",
   "metadata": {
    "colab_type": "text",
    "id": "CLNjKV_kZL3e"
   },
   "source": [
    "## CNN"
   ]
  },
  {
   "cell_type": "code",
   "execution_count": 45,
   "metadata": {
    "colab": {
     "base_uri": "https://localhost:8080/",
     "height": 683
    },
    "colab_type": "code",
    "id": "8ujwBRoMv4bz",
    "outputId": "4b72938d-5268-4198-f5f9-0b438bf6a447"
   },
   "outputs": [
    {
     "name": "stdout",
     "output_type": "stream",
     "text": [
      "Model: \"sequential_4\"\n",
      "_________________________________________________________________\n",
      "Layer (type)                 Output Shape              Param #   \n",
      "=================================================================\n",
      "embedding (Embedding)        (None, 733, 100)          8129500   \n",
      "_________________________________________________________________\n",
      "conv1d_4 (Conv1D)            (None, 733, 256)          128256    \n",
      "_________________________________________________________________\n",
      "global_max_pooling1d_4 (Glob (None, 256)               0         \n",
      "_________________________________________________________________\n",
      "dropout_4 (Dropout)          (None, 256)               0         \n",
      "_________________________________________________________________\n",
      "dense_8 (Dense)              (None, 32)                8224      \n",
      "_________________________________________________________________\n",
      "dense_9 (Dense)              (None, 1)                 33        \n",
      "=================================================================\n",
      "Total params: 8,266,013\n",
      "Trainable params: 136,513\n",
      "Non-trainable params: 8,129,500\n",
      "_________________________________________________________________\n",
      "None\n",
      "Epoch 1/8\n",
      "764/764 [==============================] - 25s 33ms/step - loss: 0.4395 - accuracy: 0.7886 - val_loss: 0.4068 - val_accuracy: 0.8086\n",
      "Epoch 2/8\n",
      "764/764 [==============================] - 25s 33ms/step - loss: 0.3789 - accuracy: 0.8277 - val_loss: 0.3578 - val_accuracy: 0.8311\n",
      "Epoch 3/8\n",
      "764/764 [==============================] - 25s 33ms/step - loss: 0.3602 - accuracy: 0.8370 - val_loss: 0.3497 - val_accuracy: 0.8300\n",
      "Epoch 4/8\n",
      "764/764 [==============================] - 25s 33ms/step - loss: 0.3475 - accuracy: 0.8432 - val_loss: 0.3319 - val_accuracy: 0.8398\n",
      "Epoch 5/8\n",
      "764/764 [==============================] - 25s 33ms/step - loss: 0.3380 - accuracy: 0.8494 - val_loss: 0.3123 - val_accuracy: 0.8518\n",
      "Epoch 6/8\n",
      "764/764 [==============================] - 25s 33ms/step - loss: 0.3299 - accuracy: 0.8531 - val_loss: 0.2828 - val_accuracy: 0.8671\n",
      "Epoch 7/8\n",
      "764/764 [==============================] - 25s 33ms/step - loss: 0.3212 - accuracy: 0.8579 - val_loss: 0.4100 - val_accuracy: 0.7998\n",
      "Epoch 8/8\n",
      "764/764 [==============================] - 25s 33ms/step - loss: 0.3127 - accuracy: 0.8615 - val_loss: 0.3126 - val_accuracy: 0.8496\n"
     ]
    }
   ],
   "source": [
    "from tensorflow.keras.models import Sequential\n",
    "from tensorflow.keras.layers import Dense, Dropout, Flatten\n",
    "from tensorflow.keras.layers import Conv1D, MaxPooling1D,GlobalMaxPooling1D\n",
    "model = Sequential()\n",
    "model.add(embedding_layer)\n",
    "\n",
    "model.add(Conv1D(filters=256,kernel_size=5,padding='same',activation='relu'))  \n",
    "model.add(GlobalMaxPooling1D())\n",
    "\n",
    "model.add(Dropout(0.5))\n",
    "model.add(Dense(32,activation='relu'))\n",
    "model.add(Dense(1,activation='sigmoid'))\n",
    "\n",
    "print(model.summary())\n",
    "# compile \n",
    "model.compile(loss = 'binary_crossentropy',optimizer='adam',metrics=['accuracy'])\n",
    "# fit \n",
    "history = model.fit(train_padding_,y_train_,validation_data =(test_padding,y_test),epochs=8,batch_size=128)"
   ]
  },
  {
   "cell_type": "code",
   "execution_count": 46,
   "metadata": {
    "colab": {
     "base_uri": "https://localhost:8080/",
     "height": 53
    },
    "colab_type": "code",
    "id": "4pwPbTmamKf3",
    "outputId": "8ad154d4-ff1b-4366-d71c-fa8bc8fd4285"
   },
   "outputs": [
    {
     "name": "stdout",
     "output_type": "stream",
     "text": [
      "764/764 [==============================] - 25s 33ms/step - loss: 0.3067 - accuracy: 0.8647 - val_loss: 0.2646 - val_accuracy: 0.8779\n"
     ]
    },
    {
     "data": {
      "text/plain": [
       "<tensorflow.python.keras.callbacks.History at 0x7f1beb6a3240>"
      ]
     },
     "execution_count": 46,
     "metadata": {
      "tags": []
     },
     "output_type": "execute_result"
    }
   ],
   "source": [
    "model.fit(train_padding_,y_train_,validation_data =(test_padding,y_test),epochs=1,batch_size=128)"
   ]
  },
  {
   "cell_type": "code",
   "execution_count": 47,
   "metadata": {
    "colab": {
     "base_uri": "https://localhost:8080/",
     "height": 161
    },
    "colab_type": "code",
    "id": "ge3B7ovgh3Dp",
    "outputId": "1a4f6759-6e83-4b66-d62c-eb390fc7c5e2"
   },
   "outputs": [
    {
     "name": "stdout",
     "output_type": "stream",
     "text": [
      "[[ 35340   6863]\n",
      " [ 38665 331722]]\n",
      "[[ 8264  2293]\n",
      " [10298 82293]]\n",
      "train metrics:  (array([0.4775353 , 0.97973035]), array([0.83738123, 0.89560919]), array([0.60821974, 0.93578308]), array([ 42203, 370387]))\n",
      "test metrics:  (array([0.44521065, 0.9728915 ]), array([0.78279814, 0.88877969]), array([0.56760191, 0.92893547]), array([10557, 92591]))\n",
      "train accuracy:  0.8896531665818367\n",
      "test accuracy:  0.8779326792569899\n"
     ]
    }
   ],
   "source": [
    "# retrieve predicted labels and compute the evaluation metrics\n",
    "y_train_pred = model.predict_classes(train_padding)\n",
    "y_test_pred = model.predict_classes(test_padding)\n",
    "\n",
    "from sklearn.metrics import confusion_matrix,precision_recall_fscore_support,accuracy_score\n",
    "print(confusion_matrix(y_train, y_train_pred))\n",
    "print(confusion_matrix(y_test, y_test_pred))\n",
    "print(\"train metrics: \",precision_recall_fscore_support(y_train, y_train_pred))\n",
    "print(\"test metrics: \",precision_recall_fscore_support(y_test, y_test_pred))\n",
    "print(\"train accuracy: \",accuracy_score(y_train, y_train_pred))\n",
    "print(\"test accuracy: \",accuracy_score(y_test, y_test_pred))"
   ]
  },
  {
   "cell_type": "code",
   "execution_count": 50,
   "metadata": {
    "colab": {
     "base_uri": "https://localhost:8080/",
     "height": 405
    },
    "colab_type": "code",
    "id": "_OSLF14Gh56h",
    "outputId": "75ddc826-4f29-41c0-b177-e653e29a7dbf"
   },
   "outputs": [
    {
     "name": "stdout",
     "output_type": "stream",
     "text": [
      "Normalized confusion matrix\n",
      "[[0.83738123 0.16261877]\n",
      " [0.10439081 0.89560919]]\n",
      "Normalized confusion matrix\n",
      "[[0.78279814 0.21720186]\n",
      " [0.11122031 0.88877969]]\n"
     ]
    },
    {
     "data": {
      "image/png": "[encoded data removed]",
      "text/plain": [
       "<Figure size 720x288 with 4 Axes>"
      ]
     },
     "metadata": {
      "tags": []
     },
     "output_type": "display_data"
    }
   ],
   "source": [
    "plt.figure(figsize=(10,4))\n",
    "plt.subplot(121)\n",
    "plot_confusion_matrix(confusion_matrix(y_train, y_train_pred), classes=[\"Negative\",\"Positive\"],normalize=True,\n",
    "                      title='Confusion matrix for training data')\n",
    "\n",
    "plt.subplot(122)\n",
    "plot_confusion_matrix(confusion_matrix(y_test, y_test_pred), classes=[\"Negative\",\"Positive\"],normalize=True,\n",
    "                      title='Confusion matrix for test data')\n",
    "plt.savefig(\"cnn_cm.png\")\n",
    "plt.show()\n",
    "from google.colab import files\n",
    "files.download(\"cnn_cm.png\")"
   ]
  },
  {
   "cell_type": "markdown",
   "metadata": {
    "colab_type": "text",
    "id": "rjKkNzP64RDS"
   },
   "source": [
    " ## GRU"
   ]
  },
  {
   "cell_type": "code",
   "execution_count": 51,
   "metadata": {
    "colab": {
     "base_uri": "https://localhost:8080/",
     "height": 647
    },
    "colab_type": "code",
    "id": "OOB1zGXT4RDK",
    "outputId": "38f798bc-dfa7-490c-8fcb-72a11f527d85"
   },
   "outputs": [
    {
     "name": "stdout",
     "output_type": "stream",
     "text": [
      "Model: \"sequential_5\"\n",
      "_________________________________________________________________\n",
      "Layer (type)                 Output Shape              Param #   \n",
      "=================================================================\n",
      "embedding (Embedding)        (None, 733, 100)          8129500   \n",
      "_________________________________________________________________\n",
      "bidirectional (Bidirectional (None, 256)               176640    \n",
      "_________________________________________________________________\n",
      "dense_10 (Dense)             (None, 1)                 257       \n",
      "=================================================================\n",
      "Total params: 8,306,397\n",
      "Trainable params: 176,897\n",
      "Non-trainable params: 8,129,500\n",
      "_________________________________________________________________\n",
      "None\n",
      "Epoch 1/10\n",
      "764/764 [==============================] - 115s 150ms/step - loss: 0.4745 - accuracy: 0.7633 - val_loss: 0.2981 - val_accuracy: 0.8632\n",
      "Epoch 2/10\n",
      "764/764 [==============================] - 114s 149ms/step - loss: 0.4031 - accuracy: 0.8122 - val_loss: 0.2548 - val_accuracy: 0.8907\n",
      "Epoch 3/10\n",
      "764/764 [==============================] - 114s 150ms/step - loss: 0.3835 - accuracy: 0.8224 - val_loss: 0.3129 - val_accuracy: 0.8552\n",
      "Epoch 4/10\n",
      "764/764 [==============================] - 114s 149ms/step - loss: 0.3724 - accuracy: 0.8289 - val_loss: 0.2743 - val_accuracy: 0.8770\n",
      "Epoch 5/10\n",
      "764/764 [==============================] - 114s 149ms/step - loss: 0.3631 - accuracy: 0.8341 - val_loss: 0.2839 - val_accuracy: 0.8694\n",
      "Epoch 6/10\n",
      "764/764 [==============================] - 113s 148ms/step - loss: 0.3566 - accuracy: 0.8373 - val_loss: 0.3146 - val_accuracy: 0.8509\n",
      "Epoch 7/10\n",
      "764/764 [==============================] - 114s 149ms/step - loss: 0.3529 - accuracy: 0.8396 - val_loss: 0.2532 - val_accuracy: 0.8880\n",
      "Epoch 8/10\n",
      "764/764 [==============================] - 114s 149ms/step - loss: 0.3473 - accuracy: 0.8431 - val_loss: 0.2686 - val_accuracy: 0.8794\n",
      "Epoch 9/10\n",
      "764/764 [==============================] - 115s 150ms/step - loss: 0.3433 - accuracy: 0.8445 - val_loss: 0.2889 - val_accuracy: 0.8682\n",
      "Epoch 10/10\n",
      "764/764 [==============================] - 113s 149ms/step - loss: 0.3403 - accuracy: 0.8462 - val_loss: 0.2576 - val_accuracy: 0.8854\n"
     ]
    }
   ],
   "source": [
    "# GRU\n",
    "from tensorflow.keras.models import Sequential\n",
    "from tensorflow.keras.layers import Dense,Flatten,Dropout\n",
    "from tensorflow.keras.layers import GRU,BatchNormalization,Bidirectional\n",
    "model = Sequential()\n",
    "model.add(embedding_layer)\n",
    "model.add(Bidirectional(GRU(128, dropout=0.5))) \n",
    "model.add(Dense(1,activation='sigmoid'))\n",
    "print(model.summary())\n",
    "# compile \n",
    "model.compile(loss = 'binary_crossentropy',optimizer='adam',metrics=['accuracy'])\n",
    "# fit \n",
    "history = model.fit(train_padding_,y_train_,validation_data =(test_padding,y_test),epochs=10,batch_size=128)"
   ]
  },
  {
   "cell_type": "code",
   "execution_count": 55,
   "metadata": {
    "colab": {
     "base_uri": "https://localhost:8080/",
     "height": 161
    },
    "colab_type": "code",
    "id": "9-ocpiY84RDU",
    "outputId": "2e4d46e7-37b0-4e06-b2fe-d8a2f34c339e"
   },
   "outputs": [
    {
     "name": "stdout",
     "output_type": "stream",
     "text": [
      "[[ 34104   8099]\n",
      " [ 37805 332582]]\n",
      "[[ 8368  2189]\n",
      " [ 9632 82959]]\n",
      "train metrics:  (array([0.47426609, 0.97622703]), array([0.80809421, 0.89793108]), array([0.59772855, 0.93544359]), array([ 42203, 370387]))\n",
      "test metrics:  (array([0.46488889, 0.97429182]), array([0.79264943, 0.89597261]), array([0.58605596, 0.93349237]), array([10557, 92591]))\n",
      "train accuracy:  0.8887418502629729\n",
      "test accuracy:  0.8853976810020553\n"
     ]
    }
   ],
   "source": [
    "# retrieve predicted labels and compute the evaluation metrics\n",
    "y_train_pred = model.predict_classes(train_padding)\n",
    "y_test_pred = model.predict_classes(test_padding)\n",
    "\n",
    "from sklearn.metrics import confusion_matrix,precision_recall_fscore_support,accuracy_score\n",
    "print(confusion_matrix(y_train, y_train_pred))\n",
    "print(confusion_matrix(y_test, y_test_pred))\n",
    "print(\"train metrics: \",precision_recall_fscore_support(y_train, y_train_pred))\n",
    "print(\"test metrics: \",precision_recall_fscore_support(y_test, y_test_pred))\n",
    "print(\"train accuracy: \",accuracy_score(y_train, y_train_pred))\n",
    "print(\"test accuracy: \",accuracy_score(y_test, y_test_pred))"
   ]
  },
  {
   "cell_type": "code",
   "execution_count": 56,
   "metadata": {
    "colab": {
     "base_uri": "https://localhost:8080/",
     "height": 405
    },
    "colab_type": "code",
    "id": "3IYaWmk-4RDZ",
    "outputId": "522e10a1-1e5d-49ba-caf3-e39f6b15e3b0"
   },
   "outputs": [
    {
     "name": "stdout",
     "output_type": "stream",
     "text": [
      "Normalized confusion matrix\n",
      "[[0.80809421 0.19190579]\n",
      " [0.10206892 0.89793108]]\n",
      "Normalized confusion matrix\n",
      "[[0.79264943 0.20735057]\n",
      " [0.10402739 0.89597261]]\n"
     ]
    },
    {
     "data": {
      "image/png": "[encoded data removed]",
      "text/plain": [
       "<Figure size 720x288 with 4 Axes>"
      ]
     },
     "metadata": {
      "tags": []
     },
     "output_type": "display_data"
    }
   ],
   "source": [
    "plt.figure(figsize=(10,4))\n",
    "plt.subplot(121)\n",
    "plot_confusion_matrix(confusion_matrix(y_train, y_train_pred), classes=[\"Negative\",\"Positive\"],normalize=True,\n",
    "                      title='Confusion matrix for training data')\n",
    "\n",
    "plt.subplot(122)\n",
    "plot_confusion_matrix(confusion_matrix(y_test, y_test_pred), classes=[\"Negative\",\"Positive\"],normalize=True,\n",
    "                      title='Confusion matrix for test data')\n",
    "plt.savefig('gru_cm.png')\n",
    "plt.show()\n",
    "from google.colab import files\n",
    "files.download('gru_cm.png')"
   ]
  }
 ],
 "metadata": {
  "accelerator": "GPU",
  "colab": {
   "collapsed_sections": [
    "e-FfJQIwv93L",
    "XnVkv6JS4REv"
   ],
   "machine_shape": "hm",
   "name": "cs686.ipynb（副本）",
   "provenance": []
  },
  "kernelspec": {
   "display_name": "Python [conda env:tf]",
   "language": "python",
   "name": "tf"
  },
  "language_info": {
   "codemirror_mode": {
    "name": "ipython",
    "version": 3
   },
   "file_extension": ".py",
   "mimetype": "text/x-python",
   "name": "python",
   "nbconvert_exporter": "python",
   "pygments_lexer": "ipython3",
   "version": "3.5.6"
  }
 },
 "nbformat": 4,
 "nbformat_minor": 1
}
